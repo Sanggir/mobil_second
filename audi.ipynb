{
 "cells": [
  {
   "cell_type": "markdown",
   "metadata": {},
   "source": [
    "1. Tentukan Library Yang Digunakan"
   ]
  },
  {
   "cell_type": "code",
   "execution_count": 2,
   "metadata": {},
   "outputs": [],
   "source": [
    "import numpy as np\n",
    "import pandas as pd\n",
    "from sklearn.preprocessing import StandardScaler\n",
    "from sklearn.model_selection import train_test_split\n",
    "from sklearn import svm\n",
    "from sklearn.metrics import accuracy_score"
   ]
  },
  {
   "attachments": {},
   "cell_type": "markdown",
   "metadata": {},
   "source": [
    "2. Load used_car_status"
   ]
  },
  {
   "cell_type": "code",
   "execution_count": 3,
   "metadata": {},
   "outputs": [],
   "source": [
    "mobil_bekas = pd.read_csv('audi.csv')\n",
    "\n"
   ]
  },
  {
   "cell_type": "code",
   "execution_count": 4,
   "metadata": {},
   "outputs": [
    {
     "data": {
      "text/html": [
       "<div>\n",
       "<style scoped>\n",
       "    .dataframe tbody tr th:only-of-type {\n",
       "        vertical-align: middle;\n",
       "    }\n",
       "\n",
       "    .dataframe tbody tr th {\n",
       "        vertical-align: top;\n",
       "    }\n",
       "\n",
       "    .dataframe thead th {\n",
       "        text-align: right;\n",
       "    }\n",
       "</style>\n",
       "<table border=\"1\" class=\"dataframe\">\n",
       "  <thead>\n",
       "    <tr style=\"text-align: right;\">\n",
       "      <th></th>\n",
       "      <th>year</th>\n",
       "      <th>price</th>\n",
       "      <th>mileage</th>\n",
       "      <th>tax</th>\n",
       "      <th>mpg</th>\n",
       "      <th>engineSize</th>\n",
       "      <th>used_car_status</th>\n",
       "    </tr>\n",
       "  </thead>\n",
       "  <tbody>\n",
       "    <tr>\n",
       "      <th>0</th>\n",
       "      <td>2017</td>\n",
       "      <td>12500</td>\n",
       "      <td>15735</td>\n",
       "      <td>150</td>\n",
       "      <td>55.4</td>\n",
       "      <td>1.4</td>\n",
       "      <td>1</td>\n",
       "    </tr>\n",
       "    <tr>\n",
       "      <th>1</th>\n",
       "      <td>2016</td>\n",
       "      <td>16500</td>\n",
       "      <td>36203</td>\n",
       "      <td>20</td>\n",
       "      <td>64.2</td>\n",
       "      <td>2.0</td>\n",
       "      <td>1</td>\n",
       "    </tr>\n",
       "    <tr>\n",
       "      <th>2</th>\n",
       "      <td>2016</td>\n",
       "      <td>11000</td>\n",
       "      <td>29946</td>\n",
       "      <td>30</td>\n",
       "      <td>55.4</td>\n",
       "      <td>1.4</td>\n",
       "      <td>0</td>\n",
       "    </tr>\n",
       "    <tr>\n",
       "      <th>3</th>\n",
       "      <td>2017</td>\n",
       "      <td>16800</td>\n",
       "      <td>25952</td>\n",
       "      <td>145</td>\n",
       "      <td>67.3</td>\n",
       "      <td>2.0</td>\n",
       "      <td>1</td>\n",
       "    </tr>\n",
       "    <tr>\n",
       "      <th>4</th>\n",
       "      <td>2019</td>\n",
       "      <td>17300</td>\n",
       "      <td>1998</td>\n",
       "      <td>145</td>\n",
       "      <td>49.6</td>\n",
       "      <td>1.0</td>\n",
       "      <td>1</td>\n",
       "    </tr>\n",
       "  </tbody>\n",
       "</table>\n",
       "</div>"
      ],
      "text/plain": [
       "   year  price  mileage  tax   mpg  engineSize  used_car_status\n",
       "0  2017  12500    15735  150  55.4         1.4                1\n",
       "1  2016  16500    36203   20  64.2         2.0                1\n",
       "2  2016  11000    29946   30  55.4         1.4                0\n",
       "3  2017  16800    25952  145  67.3         2.0                1\n",
       "4  2019  17300     1998  145  49.6         1.0                1"
      ]
     },
     "execution_count": 4,
     "metadata": {},
     "output_type": "execute_result"
    }
   ],
   "source": [
    "\n",
    "mobil_bekas.head()"
   ]
  },
  {
   "cell_type": "code",
   "execution_count": 5,
   "metadata": {},
   "outputs": [
    {
     "data": {
      "text/plain": [
       "(50, 7)"
      ]
     },
     "execution_count": 5,
     "metadata": {},
     "output_type": "execute_result"
    }
   ],
   "source": [
    "mobil_bekas.shape"
   ]
  },
  {
   "cell_type": "code",
   "execution_count": 6,
   "metadata": {},
   "outputs": [
    {
     "data": {
      "text/plain": [
       "1    33\n",
       "0    17\n",
       "Name: used_car_status, dtype: int64"
      ]
     },
     "execution_count": 6,
     "metadata": {},
     "output_type": "execute_result"
    }
   ],
   "source": [
    "mobil_bekas['used_car_status'].value_counts()\n",
    "#Rusak = 1\n",
    "#tidakRusak = 0"
   ]
  },
  {
   "cell_type": "code",
   "execution_count": 7,
   "metadata": {},
   "outputs": [],
   "source": [
    "#memisahkan data dan label\n",
    "x = mobil_bekas.drop(columns='used_car_status', axis=1)\n",
    "y = mobil_bekas['used_car_status']"
   ]
  },
  {
   "cell_type": "code",
   "execution_count": 8,
   "metadata": {},
   "outputs": [
    {
     "name": "stdout",
     "output_type": "stream",
     "text": [
      "    year  price  mileage  tax   mpg  engineSize\n",
      "0   2017  12500    15735  150  55.4         1.4\n",
      "1   2016  16500    36203   20  64.2         2.0\n",
      "2   2016  11000    29946   30  55.4         1.4\n",
      "3   2017  16800    25952  145  67.3         2.0\n",
      "4   2019  17300     1998  145  49.6         1.0\n",
      "5   2016  13900    32260   30  58.9         1.4\n",
      "6   2016  13250    76788   30  61.4         2.0\n",
      "7   2016  11750    75185   20  70.6         2.0\n",
      "8   2015  10200    46112   20  60.1         1.4\n",
      "9   2016  12000    22451   30  55.4         1.4\n",
      "10  2017  16100    28955  145  58.9         1.4\n",
      "11  2016  16500    52198  125  57.6         2.0\n",
      "12  2016  17000    44915  145  52.3         2.0\n",
      "13  2017  16400    21695   30  58.9         1.4\n",
      "14  2015  15400    47348   30  61.4         2.0\n",
      "15  2017  14500    26156  145  58.9         1.4\n",
      "16  2016  15700    28396  145  53.3         2.0\n",
      "17  2014  13900    30516   30  56.5         1.4\n",
      "18  2016  19000    37652  200  47.1         2.0\n",
      "19  2014  17000    34110  145  47.9         1.4\n",
      "20  2017  17300    37100  145  67.3         2.0\n",
      "21  2016  20200    23714  200  47.1         2.0\n",
      "22  2017  22500    21649  145  58.9         3.0\n",
      "23  2015  17500    62748  150  53.3         3.0\n",
      "24  2016  20000    23789  200  47.1         2.0\n",
      "25  2017  18500    17418  145  62.8         2.0\n",
      "26  2017  19500    33300  145  61.4         2.0\n",
      "27  2018  15800    10793  145  56.5         1.4\n",
      "28  2018  17200    25138  145  70.6         2.0\n",
      "29  2015  14000    61176   30  62.8         2.0\n",
      "30  2015   9500    54754    0  76.3         1.6\n",
      "31  2017  16500    21369  125  51.4         1.4\n",
      "32  2014  15000    39190  205  47.9         2.0\n",
      "33  2017  16000    47482  150  47.9         1.4\n",
      "34  2016  16900    40501  150  51.4         2.0\n",
      "35  2014  12300    43195  200  47.9         2.0\n",
      "36  2017  10800    31447  145  67.3         1.0\n",
      "37  2016  19400    34030  125  58.9         2.0\n",
      "38  2017  16000    29063  145  70.6         2.0\n",
      "39  2017  17100    29545  145  65.7         2.0\n",
      "40  2015  11300    75619   20  68.9         2.0\n",
      "41  2016  17200    39603  160  50.4         2.0\n",
      "42  2017  20300    42908  145  51.4         2.0\n",
      "43  2014  13200    83872  125  58.9         2.0\n",
      "44  2016  15200    58750  145  47.9         1.4\n",
      "45  2019  15700     2029  145  49.6         1.0\n",
      "46  2018  16600    22958  145  50.4         1.8\n",
      "47  2017  14400    32097  145  72.4         2.0\n",
      "48  2017  20200    13057  145  53.3         2.0\n",
      "49  2017  23700    20278  145  38.7         3.0\n"
     ]
    }
   ],
   "source": [
    "print(x)"
   ]
  },
  {
   "cell_type": "code",
   "execution_count": 9,
   "metadata": {},
   "outputs": [
    {
     "name": "stdout",
     "output_type": "stream",
     "text": [
      "0     1\n",
      "1     1\n",
      "2     0\n",
      "3     1\n",
      "4     1\n",
      "5     1\n",
      "6     1\n",
      "7     1\n",
      "8     1\n",
      "9     1\n",
      "10    1\n",
      "11    1\n",
      "12    1\n",
      "13    1\n",
      "14    1\n",
      "15    0\n",
      "16    1\n",
      "17    1\n",
      "18    1\n",
      "19    0\n",
      "20    0\n",
      "21    1\n",
      "22    0\n",
      "23    0\n",
      "24    1\n",
      "25    1\n",
      "26    0\n",
      "27    1\n",
      "28    1\n",
      "29    1\n",
      "30    0\n",
      "31    1\n",
      "32    0\n",
      "33    0\n",
      "34    1\n",
      "35    1\n",
      "36    0\n",
      "37    0\n",
      "38    0\n",
      "39    0\n",
      "40    1\n",
      "41    0\n",
      "42    1\n",
      "43    1\n",
      "44    1\n",
      "45    1\n",
      "46    0\n",
      "47    0\n",
      "48    1\n",
      "49    1\n",
      "Name: used_car_status, dtype: int64\n"
     ]
    }
   ],
   "source": [
    "print(y)"
   ]
  },
  {
   "cell_type": "markdown",
   "metadata": {},
   "source": [
    "3. Standarisasi Data"
   ]
  },
  {
   "cell_type": "code",
   "execution_count": 10,
   "metadata": {},
   "outputs": [],
   "source": [
    "x = mobil_bekas.drop(columns='used_car_status', axis=1)\n",
    "y = mobil_bekas['used_car_status']"
   ]
  },
  {
   "cell_type": "code",
   "execution_count": 11,
   "metadata": {},
   "outputs": [
    {
     "name": "stdout",
     "output_type": "stream",
     "text": [
      "    year  price  mileage  tax   mpg  engineSize\n",
      "0   2017  12500    15735  150  55.4         1.4\n",
      "1   2016  16500    36203   20  64.2         2.0\n",
      "2   2016  11000    29946   30  55.4         1.4\n",
      "3   2017  16800    25952  145  67.3         2.0\n",
      "4   2019  17300     1998  145  49.6         1.0\n",
      "5   2016  13900    32260   30  58.9         1.4\n",
      "6   2016  13250    76788   30  61.4         2.0\n",
      "7   2016  11750    75185   20  70.6         2.0\n",
      "8   2015  10200    46112   20  60.1         1.4\n",
      "9   2016  12000    22451   30  55.4         1.4\n",
      "10  2017  16100    28955  145  58.9         1.4\n",
      "11  2016  16500    52198  125  57.6         2.0\n",
      "12  2016  17000    44915  145  52.3         2.0\n",
      "13  2017  16400    21695   30  58.9         1.4\n",
      "14  2015  15400    47348   30  61.4         2.0\n",
      "15  2017  14500    26156  145  58.9         1.4\n",
      "16  2016  15700    28396  145  53.3         2.0\n",
      "17  2014  13900    30516   30  56.5         1.4\n",
      "18  2016  19000    37652  200  47.1         2.0\n",
      "19  2014  17000    34110  145  47.9         1.4\n",
      "20  2017  17300    37100  145  67.3         2.0\n",
      "21  2016  20200    23714  200  47.1         2.0\n",
      "22  2017  22500    21649  145  58.9         3.0\n",
      "23  2015  17500    62748  150  53.3         3.0\n",
      "24  2016  20000    23789  200  47.1         2.0\n",
      "25  2017  18500    17418  145  62.8         2.0\n",
      "26  2017  19500    33300  145  61.4         2.0\n",
      "27  2018  15800    10793  145  56.5         1.4\n",
      "28  2018  17200    25138  145  70.6         2.0\n",
      "29  2015  14000    61176   30  62.8         2.0\n",
      "30  2015   9500    54754    0  76.3         1.6\n",
      "31  2017  16500    21369  125  51.4         1.4\n",
      "32  2014  15000    39190  205  47.9         2.0\n",
      "33  2017  16000    47482  150  47.9         1.4\n",
      "34  2016  16900    40501  150  51.4         2.0\n",
      "35  2014  12300    43195  200  47.9         2.0\n",
      "36  2017  10800    31447  145  67.3         1.0\n",
      "37  2016  19400    34030  125  58.9         2.0\n",
      "38  2017  16000    29063  145  70.6         2.0\n",
      "39  2017  17100    29545  145  65.7         2.0\n",
      "40  2015  11300    75619   20  68.9         2.0\n",
      "41  2016  17200    39603  160  50.4         2.0\n",
      "42  2017  20300    42908  145  51.4         2.0\n",
      "43  2014  13200    83872  125  58.9         2.0\n",
      "44  2016  15200    58750  145  47.9         1.4\n",
      "45  2019  15700     2029  145  49.6         1.0\n",
      "46  2018  16600    22958  145  50.4         1.8\n",
      "47  2017  14400    32097  145  72.4         2.0\n",
      "48  2017  20200    13057  145  53.3         2.0\n",
      "49  2017  23700    20278  145  38.7         3.0\n",
      "0     1\n",
      "1     1\n",
      "2     0\n",
      "3     1\n",
      "4     1\n",
      "5     1\n",
      "6     1\n",
      "7     1\n",
      "8     1\n",
      "9     1\n",
      "10    1\n",
      "11    1\n",
      "12    1\n",
      "13    1\n",
      "14    1\n",
      "15    0\n",
      "16    1\n",
      "17    1\n",
      "18    1\n",
      "19    0\n",
      "20    0\n",
      "21    1\n",
      "22    0\n",
      "23    0\n",
      "24    1\n",
      "25    1\n",
      "26    0\n",
      "27    1\n",
      "28    1\n",
      "29    1\n",
      "30    0\n",
      "31    1\n",
      "32    0\n",
      "33    0\n",
      "34    1\n",
      "35    1\n",
      "36    0\n",
      "37    0\n",
      "38    0\n",
      "39    0\n",
      "40    1\n",
      "41    0\n",
      "42    1\n",
      "43    1\n",
      "44    1\n",
      "45    1\n",
      "46    0\n",
      "47    0\n",
      "48    1\n",
      "49    1\n",
      "Name: used_car_status, dtype: int64\n"
     ]
    }
   ],
   "source": [
    "print(x)\n",
    "print(y)"
   ]
  },
  {
   "cell_type": "markdown",
   "metadata": {},
   "source": [
    "4. Memisahkan Data Training Dan Data Testing"
   ]
  },
  {
   "cell_type": "code",
   "execution_count": 12,
   "metadata": {},
   "outputs": [],
   "source": [
    "x_train, x_test, y_train, y_test = train_test_split(x, y, test_size=0.2 ,stratify= y, random_state=2)"
   ]
  },
  {
   "cell_type": "code",
   "execution_count": 13,
   "metadata": {},
   "outputs": [
    {
     "name": "stdout",
     "output_type": "stream",
     "text": [
      "(50, 6) (40, 6) (10, 6)\n"
     ]
    }
   ],
   "source": [
    "print(x.shape, x_train.shape, x_test.shape)"
   ]
  },
  {
   "cell_type": "markdown",
   "metadata": {},
   "source": [
    "5. Membuat data latih menggunakan algoritma SVM"
   ]
  },
  {
   "cell_type": "code",
   "execution_count": 14,
   "metadata": {},
   "outputs": [],
   "source": [
    "clasifier = svm.SVC(kernel='linear')"
   ]
  },
  {
   "cell_type": "code",
   "execution_count": 15,
   "metadata": {},
   "outputs": [
    {
     "data": {
      "text/plain": [
       "SVC(kernel='linear')"
      ]
     },
     "execution_count": 15,
     "metadata": {},
     "output_type": "execute_result"
    }
   ],
   "source": [
    "clasifier.fit(x_train, y_train)"
   ]
  },
  {
   "cell_type": "markdown",
   "metadata": {},
   "source": [
    "6. Membuat model evaluasi untuk mengukur tingkat akurasi"
   ]
  },
  {
   "cell_type": "code",
   "execution_count": 16,
   "metadata": {},
   "outputs": [],
   "source": [
    "x_train_prediction = clasifier.predict(x_train)\n",
    "training_data_accuracy = accuracy_score(x_train_prediction, y_train)"
   ]
  },
  {
   "cell_type": "code",
   "execution_count": 17,
   "metadata": {},
   "outputs": [
    {
     "name": "stdout",
     "output_type": "stream",
     "text": [
      "akurasi data train nya adalah =  0.65\n"
     ]
    }
   ],
   "source": [
    "print('akurasi data train nya adalah = ', training_data_accuracy)"
   ]
  },
  {
   "cell_type": "code",
   "execution_count": 18,
   "metadata": {},
   "outputs": [],
   "source": [
    "x_test_prediction = clasifier.predict(x_test)\n",
    "test_data_accuracry = accuracy_score(x_test_prediction, y_test)"
   ]
  },
  {
   "cell_type": "code",
   "execution_count": 19,
   "metadata": {},
   "outputs": [
    {
     "name": "stdout",
     "output_type": "stream",
     "text": [
      "Akurasi data testing adalah= 0.7\n"
     ]
    }
   ],
   "source": [
    "print('Akurasi data testing adalah=', test_data_accuracry)"
   ]
  },
  {
   "cell_type": "markdown",
   "metadata": {},
   "source": [
    "7. Membuat Model Prediksi"
   ]
  },
  {
   "cell_type": "code",
   "execution_count": 20,
   "metadata": {},
   "outputs": [
    {
     "name": "stdout",
     "output_type": "stream",
     "text": [
      "[1]\n",
      "Mobil Ada Rusak\n"
     ]
    },
    {
     "name": "stderr",
     "output_type": "stream",
     "text": [
      "c:\\Users\\Lenovo\\anaconda3\\lib\\site-packages\\sklearn\\base.py:450: UserWarning: X does not have valid feature names, but SVC was fitted with feature names\n",
      "  warnings.warn(\n"
     ]
    }
   ],
   "source": [
    "input_data = (2017,12500,15735,150,55.4,1.4 )\n",
    "input_data_as_numpy_array = np.array(input_data)\n",
    "input_data_reshape = input_data_as_numpy_array.reshape(1,-1)\n",
    "prediction = clasifier.predict(input_data_reshape)\n",
    "print(prediction)\n",
    "if(prediction [0] == 0):\n",
    "    print('Mobil Tidak Rusak / Masih mulus')\n",
    "else :\n",
    "    print('Mobil Ada Rusak')"
   ]
  },
  {
   "cell_type": "markdown",
   "metadata": {},
   "source": [
    "8. Simpan Model"
   ]
  },
  {
   "cell_type": "code",
   "execution_count": 21,
   "metadata": {},
   "outputs": [],
   "source": [
    "import pickle"
   ]
  },
  {
   "cell_type": "code",
   "execution_count": 22,
   "metadata": {},
   "outputs": [],
   "source": [
    "filename = 'mobil_bekas.sav'\n",
    "pickle.dump(clasifier, open(filename,'wb'))"
   ]
  }
 ],
 "metadata": {
  "kernelspec": {
   "display_name": "base",
   "language": "python",
   "name": "python3"
  },
  "language_info": {
   "codemirror_mode": {
    "name": "ipython",
    "version": 3
   },
   "file_extension": ".py",
   "mimetype": "text/x-python",
   "name": "python",
   "nbconvert_exporter": "python",
   "pygments_lexer": "ipython3",
   "version": "3.9.13"
  },
  "orig_nbformat": 4,
  "vscode": {
   "interpreter": {
    "hash": "20a9e06a1eee47c4abbed4ec8225ad91d78d9800d202b71b6b0a6e47016c6abd"
   }
  }
 },
 "nbformat": 4,
 "nbformat_minor": 2
}
